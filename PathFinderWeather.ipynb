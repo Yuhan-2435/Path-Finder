{
 "cells": [
  {
   "cell_type": "code",
   "execution_count": 19,
   "id": "0b5b31ad",
   "metadata": {},
   "outputs": [
    {
     "data": {
      "text/plain": [
       "{'time': '2025-02-22T10:00:00-06:00',\n",
       " 'temperature': 18,\n",
       " 'wind_speed': '10 mph',\n",
       " 'humidity': 63,\n",
       " 'short_forecast': 'Mostly Sunny',\n",
       " 'rain': 0}"
      ]
     },
     "execution_count": 19,
     "metadata": {},
     "output_type": "execute_result"
    }
   ],
   "source": [
    "import requests\n",
    "def weather():\n",
    "    lat, lon = 43.0731, -89.4012  # Madison, WI coordinates\n",
    "    weather_data = f\"https://api.weather.gov/points/{lat},{lon}\"\n",
    "    \n",
    "    weather_response = requests.get(weather_data).json()\n",
    "    forecast_data = weather_response[\"properties\"][\"forecastHourly\"]\n",
    "    \n",
    "    forecast = requests.get(forecast_data).json()\n",
    "    current = forecast[\"properties\"][\"periods\"][0]  \n",
    "\n",
    "    weather = {\n",
    "        \"time\": current[\"startTime\"],\n",
    "        \"temperature\": current[\"temperature\"],\n",
    "        \"wind_speed\": current[\"windSpeed\"],\n",
    "        \"humidity\": current[\"relativeHumidity\"][\"value\"],\n",
    "        \"short_forecast\": current[\"shortForecast\"],\n",
    "        \"rain\": current[\"probabilityOfPrecipitation\"][\"value\"]\n",
    "    }\n",
    "\n",
    "    return weather\n",
    "\n",
    "\n",
    "\n",
    "weather()"
   ]
  }
 ],
 "metadata": {
  "kernelspec": {
   "display_name": "Python 3 (ipykernel)",
   "language": "python",
   "name": "python3"
  },
  "language_info": {
   "codemirror_mode": {
    "name": "ipython",
    "version": 3
   },
   "file_extension": ".py",
   "mimetype": "text/x-python",
   "name": "python",
   "nbconvert_exporter": "python",
   "pygments_lexer": "ipython3",
   "version": "3.11.4"
  }
 },
 "nbformat": 4,
 "nbformat_minor": 5
}
