{
 "cells": [
  {
   "cell_type": "code",
   "execution_count": 27,
   "id": "5b9a0580",
   "metadata": {},
   "outputs": [
    {
     "data": {
      "text/plain": [
       "{'time': '2025-02-22T12:00:00-06:00',\n",
       " 'temperature': 24,\n",
       " 'wind_speed': '15 mph',\n",
       " 'humidity': 57,\n",
       " 'short_forecast': 'Mostly Sunny',\n",
       " 'rain': 0}"
      ]
     },
     "execution_count": 27,
     "metadata": {},
     "output_type": "execute_result"
    }
   ],
   "source": [
    "import requests\n",
    "def weather():\n",
    "    lat, lon = 43.0731, -89.4012  # Madison, WI coordinates\n",
    "    weather_data = f\"https://api.weather.gov/points/{lat},{lon}\"\n",
    "    \n",
    "    weather_response = requests.get(weather_data).json()\n",
    "    forecast_data = weather_response[\"properties\"][\"forecastHourly\"]\n",
    "    \n",
    "    forecast = requests.get(forecast_data).json()\n",
    "    current = forecast[\"properties\"][\"periods\"][0]  \n",
    "\n",
    "    weather = {\n",
    "        \"time\": current[\"startTime\"],\n",
    "        \"temperature\": current[\"temperature\"],\n",
    "        \"wind_speed\": current[\"windSpeed\"],\n",
    "        \"humidity\": current[\"relativeHumidity\"][\"value\"],\n",
    "        \"short_forecast\": current[\"shortForecast\"],\n",
    "        \"rain\": current[\"probabilityOfPrecipitation\"][\"value\"],\n",
    "    }\n",
    "\n",
    "    return weather\n",
    "\n",
    "weather()"
   ]
  },
  {
   "cell_type": "code",
   "execution_count": 35,
   "id": "0786eaf6",
   "metadata": {},
   "outputs": [],
   "source": [
    "def calculate_weather_factor(weather):\n",
    "    if weather is None:\n",
    "        return 0  # Assume normal conditions if no data found\n",
    "\n",
    "    factor = 0\n",
    "    short_forecast = weather[\"short_forecast\"].lower()\n",
    "    rain = weather[\"rain\"]\n",
    "    temperature = weather[\"temperature\"]\n",
    "    wind_speed = int(weather[\"wind_speed\"].split()[0])\n",
    "\n",
    "    if rain > 50:\n",
    "        factor += 0.3  \n",
    "    if \"snow\" in short_forecast:\n",
    "        factor += 0.5  \n",
    "    if \"storm\" in short_forecast or \"thunder\" in short_forecast:\n",
    "        factor += 0.7  \n",
    "    if \"fog\" in short_forecast:\n",
    "        factor += 0.4  \n",
    "    \n",
    "    if temperature < 32:  \n",
    "        factor += 0.4  # Icy roads risk\n",
    "    elif temperature > 95: \n",
    "        factor += 0.3  # Overheating risk\n",
    "    elif 80 <= temperature <= 95:\n",
    "        factor += 0.2 \n",
    "    elif 40 <= temperature <= 80:\n",
    "        factor += 0 \n",
    "    elif temperature < 40:\n",
    "        factor += 0.2\n",
    "        \n",
    "    if wind_speed > 25:\n",
    "        factor += 0.4\n",
    "    if wind_speed > 15:\n",
    "        factor += 0.2\n",
    "\n",
    "    return factor"
   ]
  }
 ],
 "metadata": {
  "kernelspec": {
   "display_name": "Python 3 (ipykernel)",
   "language": "python",
   "name": "python3"
  },
  "language_info": {
   "codemirror_mode": {
    "name": "ipython",
    "version": 3
   },
   "file_extension": ".py",
   "mimetype": "text/x-python",
   "name": "python",
   "nbconvert_exporter": "python",
   "pygments_lexer": "ipython3",
   "version": "3.11.4"
  }
 },
 "nbformat": 4,
 "nbformat_minor": 5
}
